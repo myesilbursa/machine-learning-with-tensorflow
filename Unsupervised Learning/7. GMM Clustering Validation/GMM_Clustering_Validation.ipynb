{
 "cells": [
  {
   "cell_type": "markdown",
   "metadata": {},
   "source": [
    "# Selecting the optimal number of clusters using Silhouette Scores on KMeans and GMM clustering\n",
    "\n",
    "In this lesson, you have learned to use more advanced clustering algorithms, such as Gaussian Mixture Modeling (GMM) and you have visualized these clusters.  You also learned about using internal indices, such as the **Silhouette Coefficient** to provide scoring of models using unlabeled data.\n",
    "\n",
    "In the following exercise you will be putting this learning to practice:\n",
    "1. Import libraries\n",
    "2. You will create a Gaussian distribution sample dataset \n",
    "3. You will create a list of the number of clusterings to test \n",
    "4. You will fit the data to models using K-Means and GMM aglorithms\n",
    "5. You will score the models to find which model and which number of (k) clusters produced optimum results.\n",
    "\n",
    "At the end of all that you will also be able to visualize your clusters.  For more details on scikit-learn's silhouette_score() and its attributes, [CLICK HERE](https://scikit-learn.org/stable/modules/generated/sklearn.metrics.silhouette_score.html#sklearn.metrics.silhouette_score).\n",
    "\n",
    "#### Please note - for the following code to function as needed and visualization to run, use the variable names as written in the exercises below."
   ]
  },
  {
   "cell_type": "markdown",
   "metadata": {},
   "source": [
    "### 1. Import Libraries"
   ]
  },
  {
   "cell_type": "code",
   "execution_count": null,
   "metadata": {},
   "outputs": [],
   "source": [
    "# import libraries\n",
    "from sklearn.datasets import make_blobs\n",
    "from sklearn.cluster import KMeans\n",
    "from sklearn.mixture import GaussianMixture\n",
    "from sklearn.metrics import silhouette_samples, silhouette_score\n",
    "import scipy.stats\n",
    "\n",
    "import matplotlib.pyplot as plt\n",
    "import matplotlib.cm as cm\n",
    "import numpy as np\n",
    "%matplotlib inline"
   ]
  },
  {
   "cell_type": "markdown",
   "metadata": {},
   "source": [
    "### 2. Create the Sample Datasest\n",
    "For this exercise, you will generate a dataset with 2,000 samples (`num_samples = int`), 3 cluster centers (`num_clusters =int`), with cluster standard deviation of 1.5 (`cluster_std = float`). In this exercise, use a random state (`random_state = int`) of 42 to reproduce the results in the solution.  \n",
    "\n",
    "***We can use scikit-learn's [make_blobs](https://scikit-learn.org/stable/modules/generated/sklearn.datasets.make_blobs.html#sklearn.datasets.make_blobs \"link to scikit-learn make_blobs documentation\") function to create a dataset made up of Gaussian distributions.***"
   ]
  },
  {
   "cell_type": "code",
   "execution_count": null,
   "metadata": {},
   "outputs": [],
   "source": [
    "#TO DO - Create the parameters for your sample dataset\n",
    "\n",
    "num_samples =    ####  #Create the sample dataset size  \n",
    "num_k_clusters = ####  #Create clusters for the sample dataset\n",
    "k_cluster_std =  ####  #Create the standard deviation between clusters\n",
    "rando_state =    ####  #Create the random state for reproducibility\n",
    "\n",
    "\n",
    "#TODO - Create the sample dataset using make_blobs() - see the link above\n",
    "\n",
    "X, y = make_blobs(n_samples= ####, \n",
    "                  centers= ####, \n",
    "                  cluster_std= ####, \n",
    "                  random_state= rando_state)"
   ]
  },
  {
   "cell_type": "code",
   "execution_count": null,
   "metadata": {
    "scrolled": true
   },
   "outputs": [],
   "source": [
    "#Check the size of your sample set\n",
    "print(X.shape, y.shape)"
   ]
  },
  {
   "cell_type": "markdown",
   "metadata": {},
   "source": [
    "### 3. Create a list of cluster values (k) to evaluate\n",
    "Using the variable <code><em>range_k_clusters</em></code>  - create a list of type int, of the number of clusters you will be analyzing, from 2 to 6."
   ]
  },
  {
   "cell_type": "code",
   "execution_count": null,
   "metadata": {},
   "outputs": [],
   "source": [
    "#TO DO\n",
    "range_k_clusters = [#,#,#,#,#] #Create list of ints"
   ]
  },
  {
   "cell_type": "markdown",
   "metadata": {},
   "source": [
    "### 4. Cluster Dataset Using KMeans and GMM\n",
    "Initialize, fit and predict your K-Means and GMM clustering models by iterating through the list you created above.  Remember to set the random_state in each model to the variable rando_state above."
   ]
  },
  {
   "cell_type": "markdown",
   "metadata": {},
   "source": [
    "#### Initialize, fit and predict K-Means clusters for all the k-clusters in range_k_clusters\n",
    "\n",
    "To review the documentation on scikit-learn's KMeans [CLICK HERE](https://scikit-learn.org/stable/modules/generated/sklearn.cluster.KMeans.html?highlight=kmeans#sklearn.cluster.KMeans)"
   ]
  },
  {
   "cell_type": "code",
   "execution_count": null,
   "metadata": {},
   "outputs": [],
   "source": [
    "kmeans_cluster_labels=[]  #This variable will hold the K-Means cluster predictions\n",
    "kmeans_clusterer_list=[] #This variable will hold values needed to plot cluster centers\n",
    "\n",
    "# Initialize the clusterer with k_clusters value from range_k_clusters\n",
    "\n",
    "for k_clusters in range_k_clusters:\n",
    "    \n",
    "    #TO DO\n",
    "    # Initialize KMeans cluster using n_clusters=k_clusters and random_state=rando_state\n",
    "    kmeans_clusterer = ####\n",
    "    \n",
    "    #TO DO\n",
    "    # Fit dataset (X) to kmeans_clusterer\n",
    "    kmeans_model = ####\n",
    "    \n",
    "    #TO DO\n",
    "    # Predict new dataset (X) clusters using the kmeans_model and predict()\n",
    "    kmeans_prediction = ####\n",
    "    \n",
    "    #Adding predictions to list called kmeans_cluster_labels\n",
    "    kmeans_cluster_labels.append(kmeans_prediction)  \n",
    "    \n",
    "    #Adding values to use to determine cluster centers for plotting\n",
    "    kmeans_clusterer_list.append(kmeans_clusterer.cluster_centers_)"
   ]
  },
  {
   "cell_type": "markdown",
   "metadata": {},
   "source": [
    "#### Initialize, fit and predict GMM clustering for all the k-clusters in range_k_clusters\n",
    "\n",
    "To review the docomentation on scikit-learn's GausssianMixture [CLICK HERE](https://scikit-learn.org/stable/modules/generated/sklearn.mixture.GaussianMixture.html?highlight=gaussian#sklearn.mixture.GaussianMixture)"
   ]
  },
  {
   "cell_type": "code",
   "execution_count": null,
   "metadata": {},
   "outputs": [],
   "source": [
    "gmm_cluster_labels=[]  #This variable will hold the GMM cluster predictions\n",
    "gmm_clusterer_list =[] #This variable will hold values needed to plot cluster centers\n",
    "gmm_clusterer_gen_list = [] #This variable will hold values needed to plot cluster centers\n",
    "\n",
    "# Initialize the clusterer with k_clusters value from range_k_clusters\n",
    "\n",
    "for k_clusters in range_k_clusters:\n",
    "\n",
    "    #TO DO\n",
    "    # Initialize Gaussian Mixture Model cluster using n_components=k_clusters and random_state=rando_state\n",
    "    gmm_clusterer = ####\n",
    "    \n",
    "    #TO DO\n",
    "    # Fit dataset (X) to gmm_clusterer\n",
    "    gmm_model = ####\n",
    "    \n",
    "    #TO DO\n",
    "    # Predict new dataset (X) clusters using the gmm_model and predict()\n",
    "    gmm_prediction = ####\n",
    "    \n",
    "    #Add predictions to list\n",
    "    gmm_cluster_labels.append(gmm_prediction)  \n",
    "    \n",
    "    #Add values used to determine center of clusters when plotting\n",
    "    gmm_clusterer_list.append(np.empty(shape=(gmm_clusterer.n_components, X.shape[1])))\n",
    "    gmm_clusterer_gen_list.append(gmm_clusterer)"
   ]
  },
  {
   "cell_type": "markdown",
   "metadata": {},
   "source": [
    "### 5. Create Silhouette Coefficient Scores for your K-Means and GMM Clusters\n",
    "The following code zips our lists of the number of clusters (`range_k_clusters`) and model predictions (`kmeans_cluster_labels`, `gmm_cluster_labels`).  Then it iterates through the lists to match the dataset (`X`) with a specific model and cluster label (`kmeans_cluster_label`, `gmm_cluster_label`), given the cluster size (`k_clusters`). \n",
    "\n",
    "In this section create the silhouette score for kmeans (`silhouette_avg_kmeans`) and GMM (`silhouette_avg_gmm`) using `silhouette_score()`.\n",
    "\n",
    "To review the documentation on scikit-learn's `silhouette_score()` [CLICK HERE](https://scikit-learn.org/stable/modules/generated/sklearn.metrics.silhouette_score.html?highlight=silhouette#sklearn.metrics.silhouette_score)"
   ]
  },
  {
   "cell_type": "code",
   "execution_count": null,
   "metadata": {},
   "outputs": [],
   "source": [
    "# The Silhouette Score gives the average value for all the samples.\n",
    "\n",
    "for k_clusters, kmeans_cluster_label, gmm_cluster_label in\\\n",
    "    zip(range_k_clusters, kmeans_cluster_labels, gmm_cluster_labels):\n",
    "    \n",
    "    #TO DO\n",
    "    #Create the Silhouette Score for X and the KMeans cluster (kmeans_cluster_label)\n",
    "    silhouette_avg_kmeans = ####\n",
    "\n",
    "    #TO DO\n",
    "    #Create the Silhouette Score for X and the GMM cluster (gmm_cluster_label)\n",
    "    silhouette_avg_gmm = ####\n",
    "    \n",
    "    print(\"For k_clusters =\", k_clusters,\n",
    "          \"The avg silhouette_score using K-Means vs GMM is:\", silhouette_avg_kmeans, \"vs \", silhouette_avg_gmm,\n",
    "          \"\\n\")"
   ]
  },
  {
   "cell_type": "markdown",
   "metadata": {},
   "source": [
    "### 5. The visualizatons below are for the K-Means and GMM clustering that you did above for <code><em>k_clusters</em></code>, where k represents the number of clusters.  The plots also show the center of each cluster, as represented by the red dot.\n",
    "\n",
    "#### Run to cell below for scatter plot visualizations of the K-Means and GMM clusters calculated above.  No additional inputs needed."
   ]
  },
  {
   "cell_type": "code",
   "execution_count": null,
   "metadata": {
    "tags": [
     "hide_input"
    ]
   },
   "outputs": [],
   "source": [
    "# Visualize and compare KMeans vs GMM Clusters for each value of k_clusters\n",
    "# Variables centers1 and centers2 are used to plot the centers or each cluster\n",
    "for k_clusters, kmeans_cluster_label, gmm_cluster_label, centers1, centers2, gmm_cluster in zip(range_k_clusters, kmeans_cluster_labels,gmm_cluster_labels,kmeans_clusterer_list, gmm_clusterer_list,gmm_clusterer_gen_list):\n",
    "\n",
    "        \n",
    "    # Plot showing the actual clusters formed\n",
    "    # Create a subplot with 1 row and 2 features\n",
    "    fig, [ax2,ax1] = plt.subplots(1,2)\n",
    "    fig.set_size_inches(18, 7)\n",
    "    \n",
    "    #Plots for kmeans\n",
    "    colors = cm.nipy_spectral(kmeans_cluster_label.astype(float) / k_clusters)\n",
    "    ax2.scatter(X[:, 0], X[:, 1], marker='.', s=30, lw=0, alpha=0.7, c=colors, edgecolor='k')\n",
    "\n",
    "    # Labeling the clusters\n",
    "    for i, c in enumerate(centers1):\n",
    "        ax2.scatter(c[0], c[1], marker=\"o\", alpha=1, s=50, color='r')\n",
    "\n",
    "    ax2.set_title(\"The visualization of the K-Means clustered data.\")\n",
    "    ax2.set_xlabel(\"Feature space for the 1st feature\")\n",
    "    ax2.set_ylabel(\"Feature space for the 2nd feature\")\n",
    "\n",
    "    # plots for GMM\n",
    "    colors = cm.nipy_spectral(gmm_cluster_label.astype(float) / k_clusters)\n",
    "    ax1.scatter(X[:, 0], X[:, 1], marker='.', s=30, lw=0, alpha=0.7, c=colors, edgecolor='k')\n",
    "    \n",
    "        \n",
    "    # Measure the maximum density in GMM clusters\n",
    "    for idx, i in enumerate(range(k_clusters)):\n",
    "        density = scipy.stats.multivariate_normal(cov=gmm_cluster.covariances_[i], \n",
    "                                                  mean=gmm_cluster.means_[i]).logpdf(X)\n",
    "        centers2[i, :] = X[np.argmax(density)]\n",
    "    ax1.scatter(centers2[:, 0], centers2[:, 1], marker=\"o\", alpha=1, s=50, color='r')\n",
    "    \n",
    "\n",
    "    ax1.set_title(\"The visualization of the GMM clustered data.\")\n",
    "    ax1.set_xlabel(\"Feature space for the 1st feature\")\n",
    "    ax1.set_ylabel(\"Feature space for the 2nd feature\")\n",
    "\n",
    "    plt.suptitle((\"Scatter Plots of KMeans and GMM clustering on sample data \"\n",
    "                  \"with k_clusters = %d\" % k_clusters),\n",
    "                 fontsize=14, fontweight='bold')\n",
    "\n",
    "plt.show()"
   ]
  }
 ],
 "metadata": {
  "kernelspec": {
   "display_name": "Python 3",
   "language": "python",
   "name": "python3"
  },
  "language_info": {
   "codemirror_mode": {
    "name": "ipython",
    "version": 3
   },
   "file_extension": ".py",
   "mimetype": "text/x-python",
   "name": "python",
   "nbconvert_exporter": "python",
   "pygments_lexer": "ipython3",
   "version": "3.6.3"
  }
 },
 "nbformat": 4,
 "nbformat_minor": 1
}
